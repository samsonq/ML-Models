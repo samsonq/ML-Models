{
 "cells": [
  {
   "cell_type": "code",
   "execution_count": 1,
   "metadata": {},
   "outputs": [],
   "source": [
    "import pandas as pd\n",
    "import numpy as np\n",
    "\n",
    "from KNN import KNN  #KNN Classifier\n",
    "from sklearn.neighbors import KNeighborsClassifier"
   ]
  },
  {
   "cell_type": "code",
   "execution_count": 2,
   "metadata": {},
   "outputs": [],
   "source": [
    "train = pd.read_csv(\"train.csv\")\n",
    "test = pd.read_csv(\"test.csv\")"
   ]
  },
  {
   "cell_type": "code",
   "execution_count": 3,
   "metadata": {},
   "outputs": [
    {
     "data": {
      "text/html": [
       "<div>\n",
       "<style scoped>\n",
       "    .dataframe tbody tr th:only-of-type {\n",
       "        vertical-align: middle;\n",
       "    }\n",
       "\n",
       "    .dataframe tbody tr th {\n",
       "        vertical-align: top;\n",
       "    }\n",
       "\n",
       "    .dataframe thead th {\n",
       "        text-align: right;\n",
       "    }\n",
       "</style>\n",
       "<table border=\"1\" class=\"dataframe\">\n",
       "  <thead>\n",
       "    <tr style=\"text-align: right;\">\n",
       "      <th></th>\n",
       "      <th>Name</th>\n",
       "      <th>Position</th>\n",
       "      <th>Height</th>\n",
       "      <th>Weight</th>\n",
       "    </tr>\n",
       "  </thead>\n",
       "  <tbody>\n",
       "    <tr>\n",
       "      <th>0</th>\n",
       "      <td>Anthony Tolliver</td>\n",
       "      <td>Forward</td>\n",
       "      <td>80</td>\n",
       "      <td>240</td>\n",
       "    </tr>\n",
       "    <tr>\n",
       "      <th>1</th>\n",
       "      <td>Arnett Moultrie</td>\n",
       "      <td>Forward</td>\n",
       "      <td>83</td>\n",
       "      <td>230</td>\n",
       "    </tr>\n",
       "    <tr>\n",
       "      <th>2</th>\n",
       "      <td>Cory Joseph</td>\n",
       "      <td>Guard</td>\n",
       "      <td>75</td>\n",
       "      <td>185</td>\n",
       "    </tr>\n",
       "    <tr>\n",
       "      <th>3</th>\n",
       "      <td>Chauncey Billups</td>\n",
       "      <td>Guard</td>\n",
       "      <td>75</td>\n",
       "      <td>202</td>\n",
       "    </tr>\n",
       "    <tr>\n",
       "      <th>4</th>\n",
       "      <td>Russell Westbrook</td>\n",
       "      <td>Guard</td>\n",
       "      <td>75</td>\n",
       "      <td>187</td>\n",
       "    </tr>\n",
       "  </tbody>\n",
       "</table>\n",
       "</div>"
      ],
      "text/plain": [
       "                Name Position  Height  Weight\n",
       "0   Anthony Tolliver  Forward      80     240\n",
       "1    Arnett Moultrie  Forward      83     230\n",
       "2        Cory Joseph    Guard      75     185\n",
       "3   Chauncey Billups    Guard      75     202\n",
       "4  Russell Westbrook    Guard      75     187"
      ]
     },
     "execution_count": 3,
     "metadata": {},
     "output_type": "execute_result"
    }
   ],
   "source": [
    "train.head()"
   ]
  },
  {
   "cell_type": "markdown",
   "metadata": {},
   "source": [
    "## Without Standardization"
   ]
  },
  {
   "cell_type": "code",
   "execution_count": 4,
   "metadata": {},
   "outputs": [],
   "source": [
    "X_train = train[[\"Height\", \"Weight\"]].to_numpy()\n",
    "train[\"Position\"] = train[\"Position\"].replace({\"Forward\": 0, \"Guard\": 1})\n",
    "y_train = train[\"Position\"]\n",
    "\n",
    "X_test = test[[\"Height\", \"Weight\"]].to_numpy()\n",
    "test[\"Position\"] = test[\"Position\"].replace({\"Forward\": 0, \"Guard\": 1})\n",
    "y_test = test[\"Position\"]"
   ]
  },
  {
   "cell_type": "code",
   "execution_count": 5,
   "metadata": {},
   "outputs": [
    {
     "name": "stdout",
     "output_type": "stream",
     "text": [
      "0.07964601769911504\n"
     ]
    }
   ],
   "source": [
    "knn = KNN(1, standardize=False)\n",
    "knn.fit(X_train, y_train)\n",
    "preds = knn.predict(X_test)\n",
    "\n",
    "print(np.sum(preds != y_test)/len(test))"
   ]
  },
  {
   "cell_type": "code",
   "execution_count": 6,
   "metadata": {},
   "outputs": [
    {
     "name": "stdout",
     "output_type": "stream",
     "text": [
      "0.10619469026548672\n"
     ]
    }
   ],
   "source": [
    "k = KNeighborsClassifier(n_neighbors=1)\n",
    "k.fit(X_train, y_train)\n",
    "preds = k.predict(X_test)\n",
    "\n",
    "print(np.sum(preds != y_test)/len(test))"
   ]
  },
  {
   "cell_type": "markdown",
   "metadata": {},
   "source": [
    "## With Standardization"
   ]
  },
  {
   "cell_type": "code",
   "execution_count": 7,
   "metadata": {},
   "outputs": [
    {
     "name": "stdout",
     "output_type": "stream",
     "text": [
      "0.10619469026548672\n"
     ]
    }
   ],
   "source": [
    "knn = KNN(1, standardize=True)\n",
    "knn.fit(X_train, y_train)\n",
    "preds = knn.predict(X_test)\n",
    "\n",
    "print(np.sum(preds != y_test)/len(y_test))"
   ]
  },
  {
   "cell_type": "markdown",
   "metadata": {},
   "source": [
    "#### Manual"
   ]
  },
  {
   "cell_type": "code",
   "execution_count": 8,
   "metadata": {},
   "outputs": [],
   "source": [
    "m_h = np.mean(train[\"Height\"])\n",
    "m_w = np.mean(train[\"Weight\"])\n",
    "\n",
    "s_h = np.std(train[\"Height\"])\n",
    "s_w = np.std(train[\"Weight\"])"
   ]
  },
  {
   "cell_type": "code",
   "execution_count": 9,
   "metadata": {},
   "outputs": [],
   "source": [
    "train[\"Height\"] = (train[\"Height\"] - m_h)/s_h\n",
    "train[\"Weight\"] = (train[\"Weight\"] - m_w)/s_w\n",
    "\n",
    "test[\"Height\"] = (test[\"Height\"] - m_h)/s_h\n",
    "test[\"Weight\"] = (test[\"Weight\"] - m_w)/s_w"
   ]
  },
  {
   "cell_type": "code",
   "execution_count": 11,
   "metadata": {},
   "outputs": [],
   "source": [
    "X_train = train[[\"Height\", \"Weight\"]].to_numpy()\n",
    "y_train = train[\"Position\"]\n",
    "\n",
    "X_test = test[[\"Height\", \"Weight\"]].to_numpy()\n",
    "y_test = test[\"Position\"]"
   ]
  },
  {
   "cell_type": "code",
   "execution_count": 12,
   "metadata": {},
   "outputs": [
    {
     "name": "stdout",
     "output_type": "stream",
     "text": [
      "0.10619469026548672\n"
     ]
    }
   ],
   "source": [
    "knn = KNN(1, standardize=False)\n",
    "knn.fit(X_train, y_train)\n",
    "preds = knn.predict(X_test)\n",
    "\n",
    "print(np.sum(preds != y_test)/len(test))"
   ]
  },
  {
   "cell_type": "code",
   "execution_count": 13,
   "metadata": {},
   "outputs": [
    {
     "name": "stdout",
     "output_type": "stream",
     "text": [
      "0.10619469026548672\n"
     ]
    }
   ],
   "source": [
    "k = KNeighborsClassifier(n_neighbors=1)\n",
    "k.fit(X_train, y_train)\n",
    "preds = k.predict(X_test)\n",
    "\n",
    "print(np.sum(preds != y_test)/len(test))"
   ]
  },
  {
   "cell_type": "code",
   "execution_count": null,
   "metadata": {},
   "outputs": [],
   "source": []
  }
 ],
 "metadata": {
  "kernelspec": {
   "display_name": "Python 3",
   "language": "python",
   "name": "python3"
  },
  "language_info": {
   "codemirror_mode": {
    "name": "ipython",
    "version": 3
   },
   "file_extension": ".py",
   "mimetype": "text/x-python",
   "name": "python",
   "nbconvert_exporter": "python",
   "pygments_lexer": "ipython3",
   "version": "3.6.8"
  }
 },
 "nbformat": 4,
 "nbformat_minor": 2
}
