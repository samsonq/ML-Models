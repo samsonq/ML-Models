{
 "cells": [
  {
   "cell_type": "markdown",
   "metadata": {},
   "source": [
    "# Linear & Quadratic Discriminant Analysis"
   ]
  },
  {
   "cell_type": "code",
   "execution_count": 1,
   "metadata": {},
   "outputs": [],
   "source": [
    "import pandas as pd\n",
    "import numpy as np\n",
    "\n",
    "from matplotlib import pyplot as plt\n",
    "import seaborn as sns\n",
    "%matplotlib inline\n",
    "\n",
    "from scipy.stats import multivariate_normal  # Estimating Gaussian distribution"
   ]
  },
  {
   "cell_type": "code",
   "execution_count": 2,
   "metadata": {},
   "outputs": [],
   "source": [
    "train = pd.read_csv(\"train.csv\")\n",
    "test = pd.read_csv(\"test.csv\")"
   ]
  },
  {
   "cell_type": "code",
   "execution_count": 3,
   "metadata": {},
   "outputs": [
    {
     "data": {
      "text/html": [
       "<div>\n",
       "<style scoped>\n",
       "    .dataframe tbody tr th:only-of-type {\n",
       "        vertical-align: middle;\n",
       "    }\n",
       "\n",
       "    .dataframe tbody tr th {\n",
       "        vertical-align: top;\n",
       "    }\n",
       "\n",
       "    .dataframe thead th {\n",
       "        text-align: right;\n",
       "    }\n",
       "</style>\n",
       "<table border=\"1\" class=\"dataframe\">\n",
       "  <thead>\n",
       "    <tr style=\"text-align: right;\">\n",
       "      <th></th>\n",
       "      <th>diagnosis</th>\n",
       "      <th>radius_mean</th>\n",
       "      <th>texture_mean</th>\n",
       "      <th>perimeter_mean</th>\n",
       "      <th>area_mean</th>\n",
       "      <th>smoothness_mean</th>\n",
       "      <th>compactness_mean</th>\n",
       "      <th>concavity_mean</th>\n",
       "      <th>concave points_mean</th>\n",
       "      <th>symmetry_mean</th>\n",
       "      <th>...</th>\n",
       "      <th>radius_worst</th>\n",
       "      <th>texture_worst</th>\n",
       "      <th>perimeter_worst</th>\n",
       "      <th>area_worst</th>\n",
       "      <th>smoothness_worst</th>\n",
       "      <th>compactness_worst</th>\n",
       "      <th>concavity_worst</th>\n",
       "      <th>concave points_worst</th>\n",
       "      <th>symmetry_worst</th>\n",
       "      <th>fractal_dimension_worst</th>\n",
       "    </tr>\n",
       "  </thead>\n",
       "  <tbody>\n",
       "    <tr>\n",
       "      <th>0</th>\n",
       "      <td>M</td>\n",
       "      <td>17.95</td>\n",
       "      <td>20.01</td>\n",
       "      <td>114.20</td>\n",
       "      <td>982.0</td>\n",
       "      <td>0.08402</td>\n",
       "      <td>0.06722</td>\n",
       "      <td>0.07293</td>\n",
       "      <td>0.05596</td>\n",
       "      <td>0.2129</td>\n",
       "      <td>...</td>\n",
       "      <td>20.58</td>\n",
       "      <td>27.83</td>\n",
       "      <td>129.20</td>\n",
       "      <td>1261.0</td>\n",
       "      <td>0.1072</td>\n",
       "      <td>0.1202</td>\n",
       "      <td>0.22490</td>\n",
       "      <td>0.11850</td>\n",
       "      <td>0.4882</td>\n",
       "      <td>0.06111</td>\n",
       "    </tr>\n",
       "    <tr>\n",
       "      <th>1</th>\n",
       "      <td>M</td>\n",
       "      <td>13.00</td>\n",
       "      <td>21.82</td>\n",
       "      <td>87.50</td>\n",
       "      <td>519.8</td>\n",
       "      <td>0.12730</td>\n",
       "      <td>0.19320</td>\n",
       "      <td>0.18590</td>\n",
       "      <td>0.09353</td>\n",
       "      <td>0.2350</td>\n",
       "      <td>...</td>\n",
       "      <td>15.49</td>\n",
       "      <td>30.73</td>\n",
       "      <td>106.20</td>\n",
       "      <td>739.3</td>\n",
       "      <td>0.1703</td>\n",
       "      <td>0.5401</td>\n",
       "      <td>0.53900</td>\n",
       "      <td>0.20600</td>\n",
       "      <td>0.4378</td>\n",
       "      <td>0.10720</td>\n",
       "    </tr>\n",
       "    <tr>\n",
       "      <th>2</th>\n",
       "      <td>M</td>\n",
       "      <td>15.30</td>\n",
       "      <td>25.27</td>\n",
       "      <td>102.40</td>\n",
       "      <td>732.4</td>\n",
       "      <td>0.10820</td>\n",
       "      <td>0.16970</td>\n",
       "      <td>0.16830</td>\n",
       "      <td>0.08751</td>\n",
       "      <td>0.1926</td>\n",
       "      <td>...</td>\n",
       "      <td>20.27</td>\n",
       "      <td>36.71</td>\n",
       "      <td>149.30</td>\n",
       "      <td>1269.0</td>\n",
       "      <td>0.1641</td>\n",
       "      <td>0.6110</td>\n",
       "      <td>0.63350</td>\n",
       "      <td>0.20240</td>\n",
       "      <td>0.4027</td>\n",
       "      <td>0.09876</td>\n",
       "    </tr>\n",
       "    <tr>\n",
       "      <th>3</th>\n",
       "      <td>B</td>\n",
       "      <td>13.53</td>\n",
       "      <td>10.94</td>\n",
       "      <td>87.91</td>\n",
       "      <td>559.2</td>\n",
       "      <td>0.12910</td>\n",
       "      <td>0.10470</td>\n",
       "      <td>0.06877</td>\n",
       "      <td>0.06556</td>\n",
       "      <td>0.2403</td>\n",
       "      <td>...</td>\n",
       "      <td>14.08</td>\n",
       "      <td>12.49</td>\n",
       "      <td>91.36</td>\n",
       "      <td>605.5</td>\n",
       "      <td>0.1451</td>\n",
       "      <td>0.1379</td>\n",
       "      <td>0.08539</td>\n",
       "      <td>0.07407</td>\n",
       "      <td>0.2710</td>\n",
       "      <td>0.07191</td>\n",
       "    </tr>\n",
       "    <tr>\n",
       "      <th>4</th>\n",
       "      <td>B</td>\n",
       "      <td>11.30</td>\n",
       "      <td>18.19</td>\n",
       "      <td>73.93</td>\n",
       "      <td>389.4</td>\n",
       "      <td>0.09592</td>\n",
       "      <td>0.13250</td>\n",
       "      <td>0.15480</td>\n",
       "      <td>0.02854</td>\n",
       "      <td>0.2054</td>\n",
       "      <td>...</td>\n",
       "      <td>12.58</td>\n",
       "      <td>27.96</td>\n",
       "      <td>87.16</td>\n",
       "      <td>472.9</td>\n",
       "      <td>0.1347</td>\n",
       "      <td>0.4848</td>\n",
       "      <td>0.74360</td>\n",
       "      <td>0.12180</td>\n",
       "      <td>0.3308</td>\n",
       "      <td>0.12970</td>\n",
       "    </tr>\n",
       "  </tbody>\n",
       "</table>\n",
       "<p>5 rows × 31 columns</p>\n",
       "</div>"
      ],
      "text/plain": [
       "  diagnosis  radius_mean  texture_mean  perimeter_mean  area_mean  \\\n",
       "0         M        17.95         20.01          114.20      982.0   \n",
       "1         M        13.00         21.82           87.50      519.8   \n",
       "2         M        15.30         25.27          102.40      732.4   \n",
       "3         B        13.53         10.94           87.91      559.2   \n",
       "4         B        11.30         18.19           73.93      389.4   \n",
       "\n",
       "   smoothness_mean  compactness_mean  concavity_mean  concave points_mean  \\\n",
       "0          0.08402           0.06722         0.07293              0.05596   \n",
       "1          0.12730           0.19320         0.18590              0.09353   \n",
       "2          0.10820           0.16970         0.16830              0.08751   \n",
       "3          0.12910           0.10470         0.06877              0.06556   \n",
       "4          0.09592           0.13250         0.15480              0.02854   \n",
       "\n",
       "   symmetry_mean  ...  radius_worst  texture_worst  perimeter_worst  \\\n",
       "0         0.2129  ...         20.58          27.83           129.20   \n",
       "1         0.2350  ...         15.49          30.73           106.20   \n",
       "2         0.1926  ...         20.27          36.71           149.30   \n",
       "3         0.2403  ...         14.08          12.49            91.36   \n",
       "4         0.2054  ...         12.58          27.96            87.16   \n",
       "\n",
       "   area_worst  smoothness_worst  compactness_worst  concavity_worst  \\\n",
       "0      1261.0            0.1072             0.1202          0.22490   \n",
       "1       739.3            0.1703             0.5401          0.53900   \n",
       "2      1269.0            0.1641             0.6110          0.63350   \n",
       "3       605.5            0.1451             0.1379          0.08539   \n",
       "4       472.9            0.1347             0.4848          0.74360   \n",
       "\n",
       "   concave points_worst  symmetry_worst  fractal_dimension_worst  \n",
       "0               0.11850          0.4882                  0.06111  \n",
       "1               0.20600          0.4378                  0.10720  \n",
       "2               0.20240          0.4027                  0.09876  \n",
       "3               0.07407          0.2710                  0.07191  \n",
       "4               0.12180          0.3308                  0.12970  \n",
       "\n",
       "[5 rows x 31 columns]"
      ]
     },
     "execution_count": 3,
     "metadata": {},
     "output_type": "execute_result"
    }
   ],
   "source": [
    "train.head()"
   ]
  },
  {
   "cell_type": "markdown",
   "metadata": {},
   "source": [
    "We have data about various tumors and whether they are Malignant, \"M\", or Benign, \"B\", as the diagnosis. Each tumor has measures recorded like their radius, perimeter, area, etc. In this notebook, we will use linear and quadratic discriminant analysis **(LDA/QDA)** to classify tumors as either malignant or benign. To do so, we will use estimate probabilities with multivariate Gaussian distributions."
   ]
  },
  {
   "cell_type": "markdown",
   "metadata": {},
   "source": [
    "# Feature Visualization\n",
    "Before getting started, we should visualize the differences in the values of the features between the two class labels, malignant and benign. Features are more useful when there is a clear distinction between the data points of the two labels."
   ]
  },
  {
   "cell_type": "code",
   "execution_count": 4,
   "metadata": {},
   "outputs": [
    {
     "data": {
      "text/plain": [
       "Text(0.5, 1.0, 'Texture Mean vs. Radius Mean')"
      ]
     },
     "execution_count": 4,
     "metadata": {},
     "output_type": "execute_result"
    },
    {
     "data": {
      "image/png": "[encoded data removed]",
      "text/plain": [
       "<Figure size 576x360 with 1 Axes>"
      ]
     },
     "metadata": {
      "needs_background": "light"
     },
     "output_type": "display_data"
    }
   ],
   "source": [
    "fig = plt.gcf()\n",
    "fig.set_size_inches(8, 5)\n",
    "\n",
    "sns.scatterplot(x=\"radius_mean\", y=\"texture_mean\", hue=\"diagnosis\", palette=[\"red\", \"blue\"], data=train)\n",
    "plt.title(\"Texture Mean vs. Radius Mean\")"
   ]
  },
  {
   "cell_type": "markdown",
   "metadata": {},
   "source": [
    "Here is the radius mean vs. the texture mean of malignant and benign tumors. We can fit a Gaussian to just these two features of course, but it's more useful to fit multivariate Gaussians of larger dimensions and use all features in our data."
   ]
  },
  {
   "cell_type": "markdown",
   "metadata": {},
   "source": [
    "# 2b. Linear Discriminant Analysis"
   ]
  },
  {
   "cell_type": "markdown",
   "metadata": {},
   "source": [
    "Before performing Linear Discriminant Analysis, it's important to standardize the data for each feature in order to get more accurate results. Larger data values tends to greatly impact the estimated probabilities coming from the Gaussian distribution, which we can help mitigate by standardizing beforehand."
   ]
  },
  {
   "cell_type": "code",
   "execution_count": 5,
   "metadata": {},
   "outputs": [],
   "source": [
    "# Standardize each feature before analysis\n",
    "def standardize(train, test):\n",
    "    \"\"\"\n",
    "    Standardizes training and testing set data based on the means and standard\n",
    "    deviations of the training set. x = (x-µ)/σ\n",
    "    \n",
    "    :param train: training set\n",
    "    :param test: testing set\n",
    "    :returns: standardized training and testing set\n",
    "    \"\"\"\n",
    "    for col in train.columns:\n",
    "        if col == \"diagnosis\":\n",
    "            continue\n",
    "        mean = np.mean(train[col])\n",
    "        std = np.std(train[col])\n",
    "        train[col] = (train[col]-mean)/std  # standardize training data\n",
    "        test[col] = (test[col]-mean)/std  # standardize testing data\n",
    "    return train, test\n",
    "\n",
    "train, test = standardize(train, test)"
   ]
  },
  {
   "cell_type": "markdown",
   "metadata": {},
   "source": [
    "Now we can split the data into the two classes to calculate conditional probabilities."
   ]
  },
  {
   "cell_type": "code",
   "execution_count": 6,
   "metadata": {},
   "outputs": [],
   "source": [
    "# Split data into two classes\n",
    "benign = train[train[\"diagnosis\"] == \"B\"]\n",
    "malignant = train[train[\"diagnosis\"] == \"M\"]"
   ]
  },
  {
   "cell_type": "markdown",
   "metadata": {},
   "source": [
    "We will calculate the covariance matrix of the data with all 30 features. Then we will have 2 different convariance matrices made from the data for both classes."
   ]
  },
  {
   "cell_type": "code",
   "execution_count": 7,
   "metadata": {},
   "outputs": [],
   "source": [
    "# Calculate Covariance Matrix for each class\n",
    "def covariance_matrix(data):\n",
    "    \"\"\"\n",
    "    Calculates the covariance matrix of all features for the dataset.\n",
    "    \n",
    "    :param data: dataset for covariance matrix\n",
    "    :return: covariance matrix of data\n",
    "    \"\"\"\n",
    "    df = data.drop([\"diagnosis\"], axis=1)\n",
    "    for col in df.columns:\n",
    "        df[col] = df[col] - np.mean(df[col])\n",
    "    X = df.to_numpy()\n",
    "    n = len(data)\n",
    "    return (1/n)*np.dot(X.T, X)\n",
    "\n",
    "C1 = covariance_matrix(benign)  # benign covariance matrix\n",
    "C2 = covariance_matrix(malignant)  # malignant covariance matrix"
   ]
  },
  {
   "cell_type": "markdown",
   "metadata": {},
   "source": [
    "In Linear Discriminant Analysis, we assume that the diagonal covariance matrix is shared amongst the classes. Since we have two different covariance matrices calculated, we can join these two matrcies together by using the weighted mean and get one joined, shared, covariance matrix."
   ]
  },
  {
   "cell_type": "code",
   "execution_count": 8,
   "metadata": {},
   "outputs": [
    {
     "data": {
      "text/plain": [
       "array([[ 0.46069695,  0.04083119,  0.44882355,  0.46061735, -0.09497714,\n",
       "         0.07277864,  0.17141546,  0.24533524, -0.07583513, -0.28977725,\n",
       "         0.24749563, -0.06816555,  0.24167745,  0.32588402, -0.16518063,\n",
       "         0.01761937,  0.04056994,  0.10559047, -0.07224205, -0.07486241,\n",
       "         0.39924598, -0.00839932,  0.38762149,  0.40085921, -0.16919382,\n",
       "         0.00467344,  0.06870833,  0.1757939 , -0.09576887, -0.20542279],\n",
       "       [ 0.04083119,  0.81945533,  0.0391763 ,  0.04598691, -0.20967809,\n",
       "        -0.04238423, -0.00975306, -0.04388858, -0.12081096, -0.11747559,\n",
       "         0.07012713,  0.42642546,  0.08542113,  0.06564065,  0.00918936,\n",
       "         0.05799085,  0.040637  , -0.00277141,  0.04862049,  0.00840289,\n",
       "         0.0373404 ,  0.71412407,  0.03931201,  0.04608505, -0.15832009,\n",
       "        -0.01222612, -0.01020233, -0.05646394, -0.09858045, -0.0819951 ],\n",
       "       [ 0.44882355,  0.0391763 ,  0.44174399,  0.45058288, -0.06091409,\n",
       "         0.12048164,  0.2047978 ,  0.26669491, -0.04232188, -0.23487906,\n",
       "         0.25636941, -0.05789847,  0.25857529,  0.33205048, -0.14408823,\n",
       "         0.06007891,  0.07405495,  0.13192887, -0.05000151, -0.03505866,\n",
       "         0.38999807, -0.01024422,  0.38443994,  0.39345345, -0.14138204,\n",
       "         0.04227107,  0.09857285,  0.19479837, -0.0760207 , -0.16217115],\n",
       "       [ 0.46061735,  0.04598691,  0.45058288,  0.48455464, -0.08454226,\n",
       "         0.07768545,  0.19335716,  0.26009774, -0.06123225, -0.26525216,\n",
       "         0.3073548 , -0.04473222,  0.29984584,  0.39907526, -0.11663303,\n",
       "         0.03214414,  0.05809832,  0.11211854, -0.04427217, -0.05478086,\n",
       "         0.40903605, -0.01147248,  0.39909863,  0.43629051, -0.16010537,\n",
       "        -0.00499751,  0.06943953,  0.16983837, -0.10350559, -0.20586677],\n",
       "       [-0.09497714, -0.20967809, -0.06091409, -0.08454226,  0.88393453,\n",
       "         0.45475774,  0.2712259 ,  0.2872504 ,  0.44398993,  0.60650638,\n",
       "         0.09302041,  0.06488406,  0.09087886,  0.04757815,  0.36974294,\n",
       "         0.19691562,  0.1452032 ,  0.22768694,  0.1562055 ,  0.25867194,\n",
       "        -0.06278502, -0.16322722, -0.0378951 , -0.05214201,  0.69277596,\n",
       "         0.26300319,  0.19637043,  0.22415643,  0.22436277,  0.40588201],\n",
       "       [ 0.07277864, -0.04238423,  0.12048164,  0.07768545,  0.45475774,\n",
       "         0.66737509,  0.47959121,  0.38430512,  0.42315501,  0.59757362,\n",
       "         0.18767161,  0.04448757,  0.25591566,  0.16665988,  0.17284808,\n",
       "         0.5555649 ,  0.44115495,  0.39346168,  0.2239725 ,  0.48196769,\n",
       "         0.08434454, -0.05036592,  0.14020155,  0.08894994,  0.33353024,\n",
       "         0.52749601,  0.42891489,  0.35943318,  0.26712889,  0.51510597],\n",
       "       [ 0.17141546, -0.00975306,  0.2047978 ,  0.19335716,  0.2712259 ,\n",
       "         0.47959121,  0.50984776,  0.38319938,  0.26976266,  0.34238913,\n",
       "         0.24196705,  0.05776131,  0.28648656,  0.25998117,  0.13913718,\n",
       "         0.45513239,  0.50389904,  0.3732317 ,  0.16440716,  0.36215718,\n",
       "         0.16116869, -0.03456596,  0.20155837,  0.18343728,  0.17528351,\n",
       "         0.36134751,  0.43294272,  0.32138184,  0.12722423,  0.29873458],\n",
       "       [ 0.24533524, -0.04388858,  0.26669491,  0.26009774,  0.2872504 ,\n",
       "         0.38430512,  0.38319938,  0.40091479,  0.21879645,  0.19926488,\n",
       "         0.26367422,  0.02656382,  0.28661251,  0.28023189,  0.08478554,\n",
       "         0.26668384,  0.25217558,  0.30291837,  0.09831403,  0.210296  ,\n",
       "         0.2274859 , -0.07013151,  0.25024021,  0.24236793,  0.15881785,\n",
       "         0.23150664,  0.25401137,  0.30778457,  0.07060365,  0.14562602],\n",
       "       [-0.07583513, -0.12081096, -0.04232188, -0.06123225,  0.44398993,\n",
       "         0.42315501,  0.26976266,  0.21879645,  0.88491355,  0.49037161,\n",
       "         0.16165507,  0.09976476,  0.18500954,  0.0945554 ,  0.17339127,\n",
       "         0.29112846,  0.2234179 ,  0.20406397,  0.42884644,  0.28029795,\n",
       "        -0.04868709, -0.10566498, -0.01398509, -0.03935211,  0.29932044,\n",
       "         0.28706908,  0.21539215,  0.17440259,  0.56413423,  0.33833119],\n",
       "       [-0.28977725, -0.11747559, -0.23487906, -0.26525216,  0.60650638,\n",
       "         0.59757362,  0.34238913,  0.19926488,  0.49037161,  0.99906643,\n",
       "         0.021555  ,  0.12059355,  0.08065278, -0.05887723,  0.39091639,\n",
       "         0.52602401,  0.40560838,  0.31541391,  0.28981865,  0.66898581,\n",
       "        -0.22574618, -0.09586076, -0.16961753, -0.20194335,  0.52016156,\n",
       "         0.46483665,  0.34111443,  0.19533762,  0.30523331,  0.76916981],\n",
       "       [ 0.24749563,  0.07012713,  0.25636941,  0.3073548 ,  0.09302041,\n",
       "         0.18767161,  0.24196705,  0.26367422,  0.16165507,  0.021555  ,\n",
       "         0.64585431,  0.25436736,  0.62136303,  0.59910111,  0.19471851,\n",
       "         0.22585242,  0.1926825 ,  0.3144441 ,  0.24740878,  0.19777103,\n",
       "         0.26544438, -0.03495289,  0.27166001,  0.32797947, -0.07972544,\n",
       "        -0.00957778,  0.03336549,  0.10165733, -0.0958686 , -0.1164453 ],\n",
       "       [-0.06816555,  0.42642546, -0.05789847, -0.04473222,  0.06488406,\n",
       "         0.04448757,  0.05776131,  0.02656382,  0.09976476,  0.12059355,\n",
       "         0.25436736,  0.99975629,  0.27648289,  0.14415191,  0.40950694,\n",
       "         0.22764477,  0.15501191,  0.2295541 ,  0.43466191,  0.24695546,\n",
       "        -0.09444039,  0.43197341, -0.08272315, -0.07465985, -0.08490686,\n",
       "        -0.11956023, -0.10721072, -0.12775444, -0.14327488, -0.11534796],\n",
       "       [ 0.24167745,  0.08542113,  0.25857529,  0.29984584,  0.09087886,\n",
       "         0.25591566,  0.28648656,  0.28661251,  0.18500954,  0.08065278,\n",
       "         0.62136303,  0.27648289,  0.66139555,  0.58580112,  0.17610531,\n",
       "         0.30541713,  0.2549108 ,  0.38421371,  0.28437703,  0.23734314,\n",
       "         0.25120818, -0.01961088,  0.28035802,  0.31196681, -0.08895319,\n",
       "         0.06242816,  0.0872196 ,  0.14001885, -0.0672163 , -0.06215349],\n",
       "       [ 0.32588402,  0.06564065,  0.33205048,  0.39907526,  0.04757815,\n",
       "         0.16665988,  0.25998117,  0.28023189,  0.0945554 , -0.05887723,\n",
       "         0.59910111,  0.14415191,  0.58580112,  0.66591547,  0.10021489,\n",
       "         0.17743728,  0.16562047,  0.24010322,  0.13277189,  0.11154213,\n",
       "         0.33458152, -0.01987802,  0.34107422,  0.41901748, -0.08069878,\n",
       "         0.01318719,  0.0704674 ,  0.13799896, -0.09329986, -0.12812019],\n",
       "       [-0.16518063,  0.00918936, -0.14408823, -0.11663303,  0.36974294,\n",
       "         0.17284808,  0.13913718,  0.08478554,  0.17339127,  0.39091639,\n",
       "         0.19471851,  0.40950694,  0.17610531,  0.10021489,  0.99889039,\n",
       "         0.34181031,  0.28836417,  0.34153583,  0.39163031,  0.44376861,\n",
       "        -0.17576452, -0.08107299, -0.16140638, -0.13064506,  0.33599751,\n",
       "        -0.04078082, -0.0332099 , -0.05699762, -0.13381967,  0.09038337],\n",
       "       [ 0.01761937,  0.05799085,  0.06007891,  0.03214414,  0.19691562,\n",
       "         0.5555649 ,  0.45513239,  0.26668384,  0.29112846,  0.52602401,\n",
       "         0.22585242,  0.22764477,  0.30541713,  0.17743728,  0.34181031,\n",
       "         0.90414721,  0.73042802,  0.58241882,  0.38919368,  0.78076558,\n",
       "         0.00117826, -0.00668789,  0.06027517,  0.01336254,  0.08292212,\n",
       "         0.50969025,  0.43478812,  0.25131921,  0.1334405 ,  0.47017332],\n",
       "       [ 0.04056994,  0.040637  ,  0.07405495,  0.05809832,  0.1452032 ,\n",
       "         0.44115495,  0.50389904,  0.25217558,  0.2234179 ,  0.40560838,\n",
       "         0.1926825 ,  0.15501191,  0.2549108 ,  0.16562047,  0.28836417,\n",
       "         0.73042802,  0.90066922,  0.61166905,  0.31658103,  0.60227006,\n",
       "         0.01650626, -0.02366431,  0.06195683,  0.03029265,  0.05937793,\n",
       "         0.37216526,  0.51730472,  0.25716929,  0.09471853,  0.34343476],\n",
       "       [ 0.10559047, -0.00277141,  0.13192887,  0.11211854,  0.22768694,\n",
       "         0.39346168,  0.3732317 ,  0.30291837,  0.20406397,  0.31541391,\n",
       "         0.3144441 ,  0.2295541 ,  0.38421371,  0.24010322,  0.34153583,\n",
       "         0.58241882,  0.61166905,  0.79006178,  0.30041178,  0.52098499,\n",
       "         0.05985588, -0.11038939,  0.0970883 ,  0.06371783,  0.04005288,\n",
       "         0.20777031,  0.2583785 ,  0.2770093 , -0.07057863,  0.1523434 ],\n",
       "       [-0.07224205,  0.04862049, -0.05000151, -0.04427217,  0.1562055 ,\n",
       "         0.2239725 ,  0.16440716,  0.09831403,  0.42884644,  0.28981865,\n",
       "         0.24740878,  0.43466191,  0.28437703,  0.13277189,  0.39163031,\n",
       "         0.38919368,  0.31658103,  0.30041178,  0.99981283,  0.34994139,\n",
       "        -0.09667774, -0.04406677, -0.06864393, -0.0776703 , -0.0486511 ,\n",
       "         0.04881279,  0.0289791 , -0.03807432,  0.36481396,  0.01516198],\n",
       "       [-0.07486241,  0.00840289, -0.03505866, -0.05478086,  0.25867194,\n",
       "         0.48196769,  0.36215718,  0.210296  ,  0.28029795,  0.66898581,\n",
       "         0.19777103,  0.24695546,  0.23734314,  0.11154213,  0.44376861,\n",
       "         0.78076558,  0.60227006,  0.52098499,  0.34994139,  0.98976128,\n",
       "        -0.07946497, -0.0742128 , -0.03671502, -0.06224835,  0.13267863,\n",
       "         0.35508098,  0.2983568 ,  0.15493403,  0.03608337,  0.55758342],\n",
       "       [ 0.39924598,  0.0373404 ,  0.38999807,  0.40903605, -0.06278502,\n",
       "         0.08434454,  0.16116869,  0.2274859 , -0.04868709, -0.22574618,\n",
       "         0.26544438, -0.09444039,  0.25120818,  0.33458152, -0.17576452,\n",
       "         0.00117826,  0.01650626,  0.05985588, -0.09667774, -0.07946497,\n",
       "         0.39371221,  0.02256242,  0.38174945,  0.40931937, -0.0893372 ,\n",
       "         0.05148658,  0.09531214,  0.18873351, -0.03066588, -0.12346579],\n",
       "       [-0.00839932,  0.71412407, -0.01024422, -0.01147248, -0.16322722,\n",
       "        -0.05036592, -0.03456596, -0.07013151, -0.10566498, -0.09586076,\n",
       "        -0.03495289,  0.43197341, -0.01961088, -0.01987802, -0.08107299,\n",
       "        -0.00668789, -0.02366431, -0.11038939, -0.04406677, -0.0742128 ,\n",
       "         0.02256242,  0.78893321,  0.02434636,  0.02272892, -0.02042381,\n",
       "         0.05484756,  0.03401154, -0.01644415,  0.03214394,  0.00347332],\n",
       "       [ 0.38762149,  0.03931201,  0.38443994,  0.39909863, -0.0378951 ,\n",
       "         0.14020155,  0.20155837,  0.25024021, -0.01398509, -0.16961753,\n",
       "         0.27166001, -0.08272315,  0.28035802,  0.34107422, -0.16140638,\n",
       "         0.06027517,  0.06195683,  0.0970883 , -0.06864393, -0.03671502,\n",
       "         0.38174945,  0.02434636,  0.38401043,  0.39897204, -0.07028626,\n",
       "         0.106472  ,  0.13812988,  0.21504261, -0.00465044, -0.07393082],\n",
       "       [ 0.40085921,  0.04608505,  0.39345345,  0.43629051, -0.05214201,\n",
       "         0.08894994,  0.18343728,  0.24236793, -0.03935211, -0.20194335,\n",
       "         0.32797947, -0.07465985,  0.31196681,  0.41901748, -0.13064506,\n",
       "         0.01336254,  0.03029265,  0.06371783, -0.0776703 , -0.06224835,\n",
       "         0.40931937,  0.02272892,  0.39897204,  0.45636656, -0.07923738,\n",
       "         0.04435435,  0.09764353,  0.18461174, -0.04450305, -0.12321371],\n",
       "       [-0.16919382, -0.15832009, -0.14138204, -0.16010537,  0.69277596,\n",
       "         0.33353024,  0.17528351,  0.15881785,  0.29932044,  0.52016156,\n",
       "        -0.07972544, -0.08490686, -0.08895319, -0.08069878,  0.33599751,\n",
       "         0.08292212,  0.05937793,  0.04005288, -0.0486511 ,  0.13267863,\n",
       "        -0.0893372 , -0.02042381, -0.07028626, -0.07923738,  0.8411013 ,\n",
       "         0.31145653,  0.24125683,  0.22677815,  0.29120835,  0.48996546],\n",
       "       [ 0.00467344, -0.01222612,  0.04227107, -0.00499751,  0.26300319,\n",
       "         0.52749601,  0.36134751,  0.23150664,  0.28706908,  0.46483665,\n",
       "        -0.00957778, -0.11956023,  0.06242816,  0.01318719, -0.04078082,\n",
       "         0.50969025,  0.37216526,  0.20777031,  0.04881279,  0.35508098,\n",
       "         0.05148658,  0.05484756,  0.106472  ,  0.04435435,  0.31145653,\n",
       "         0.66614114,  0.51235886,  0.35749201,  0.3759573 ,  0.62698828],\n",
       "       [ 0.06870833, -0.01020233,  0.09857285,  0.06943953,  0.19637043,\n",
       "         0.42891489,  0.43294272,  0.25401137,  0.21539215,  0.34111443,\n",
       "         0.03336549, -0.10721072,  0.0872196 ,  0.0704674 , -0.0332099 ,\n",
       "         0.43478812,  0.51730472,  0.2583785 ,  0.0289791 ,  0.2983568 ,\n",
       "         0.09531214,  0.03401154,  0.13812988,  0.09764353,  0.24125683,\n",
       "         0.51235886,  0.57560519,  0.35069854,  0.26562725,  0.47546112],\n",
       "       [ 0.1757939 , -0.05646394,  0.19479837,  0.16983837,  0.22415643,\n",
       "         0.35943318,  0.32138184,  0.30778457,  0.17440259,  0.19533762,\n",
       "         0.10165733, -0.12775444,  0.14001885,  0.13799896, -0.05699762,\n",
       "         0.25131921,  0.25716929,  0.2770093 , -0.03807432,  0.15493403,\n",
       "         0.18873351, -0.01644415,  0.21504261,  0.18461174,  0.22677815,\n",
       "         0.35749201,  0.35069854,  0.390286  ,  0.17747634,  0.28106513],\n",
       "       [-0.09576887, -0.09858045, -0.0760207 , -0.10350559,  0.22436277,\n",
       "         0.26712889,  0.12722423,  0.07060365,  0.56413423,  0.30523331,\n",
       "        -0.0958686 , -0.14327488, -0.0672163 , -0.09329986, -0.13381967,\n",
       "         0.1334405 ,  0.09471853, -0.07057863,  0.36481396,  0.03608337,\n",
       "        -0.03066588,  0.03214394, -0.00465044, -0.04450305,  0.29120835,\n",
       "         0.3759573 ,  0.26562725,  0.17747634,  0.83026163,  0.37883578],\n",
       "       [-0.20542279, -0.0819951 , -0.16217115, -0.20586677,  0.40588201,\n",
       "         0.51510597,  0.29873458,  0.14562602,  0.33833119,  0.76916981,\n",
       "        -0.1164453 , -0.11534796, -0.06215349, -0.12812019,  0.09038337,\n",
       "         0.47017332,  0.34343476,  0.1523434 ,  0.01516198,  0.55758342,\n",
       "        -0.12346579,  0.00347332, -0.07393082, -0.12321371,  0.48996546,\n",
       "         0.62698828,  0.47546112,  0.28106513,  0.37883578,  0.90910056]])"
      ]
     },
     "execution_count": 8,
     "metadata": {},
     "output_type": "execute_result"
    }
   ],
   "source": [
    "# Overall Covariance Matrix with weighted average\n",
    "n1 = len(benign)\n",
    "n2 = len(malignant)\n",
    "C = (n1*C1+n2*C2)/(n1+n2)\n",
    "C  # joined covariance matrix"
   ]
  },
  {
   "cell_type": "markdown",
   "metadata": {},
   "source": [
    "The prediction made by LDA depends on the conditional probabilities of each class, given the features of the test data. We can calculate the conditional probabilities for each class by using Bayes' Rule:\n",
    "\n",
    "$P(A|B) =  P(B|A)*P(A)/P(B)$\n",
    "\n",
    "where A represents the class label and B represents the feature vector.\n",
    "\n",
    "Since the denominators are the same for each class because we are using the same feature vector for both probabilities, we find the label that maximizes $P(B|A)*P(A)$ To calculate the conditional probability, we can estimate it with a multivariate Gaussian distribution, using the shared covariance matrix we computed above, and the means of each feature in the data. From this, we can estimate the likelihood of our feature vector occuring in the distribution described by the training data we fit.\n",
    "\n",
    "Because we are using a shared covariance matrix between the classes, the resulting decision boundary of our model will be linear, hence the name."
   ]
  },
  {
   "cell_type": "code",
   "execution_count": 9,
   "metadata": {},
   "outputs": [],
   "source": [
    "def _LDA(features):\n",
    "    \"\"\"\n",
    "    Performs LDA classification on one data point, given array of its features.\n",
    "    \n",
    "    :param features: array of feature data\n",
    "    :return: label prediction\n",
    "    \"\"\"\n",
    "    p_benign = len(benign)/len(train)  # probability of benign \n",
    "    p_malignant = len(malignant)/len(train)  # probability of malignant\n",
    "    \n",
    "    mean_benign = np.array(benign.mean(axis=0))  # mean of benign\n",
    "    mean_malignant = np.array(malignant.mean(axis=0))  # mean of malignant\n",
    "    \n",
    "    pdf_benign = multivariate_normal.pdf(features, mean_benign, C)  # conditional probability given benign\n",
    "    pdf_malignant = multivariate_normal.pdf(features, mean_malignant, C)  # conditional probability given malignant\n",
    "    if pdf_benign * p_benign > pdf_malignant * p_malignant:\n",
    "        return \"B\"\n",
    "    else:\n",
    "        return \"M\""
   ]
  },
  {
   "cell_type": "markdown",
   "metadata": {},
   "source": [
    "Now we can start making predictions on the testing set and evaluate the performance of our model."
   ]
  },
  {
   "cell_type": "code",
   "execution_count": 10,
   "metadata": {},
   "outputs": [
    {
     "name": "stdout",
     "output_type": "stream",
     "text": [
      "LDA Training Accuracy:  0.9575\n",
      "LDA Training Error:  0.0425\n",
      "LDA Testing Accuracy:  0.9763313609467456\n",
      "LDA Testing Error:  0.023668639053254437\n"
     ]
    }
   ],
   "source": [
    "X_train = train.drop([\"diagnosis\"], axis=1).to_numpy()\n",
    "y_train = train[\"diagnosis\"]\n",
    "X_test = test.drop([\"diagnosis\"], axis=1).to_numpy()\n",
    "y_test = test[\"diagnosis\"]\n",
    "\n",
    "def LDA(data):\n",
    "    preds = np.array([])\n",
    "    for i in data:\n",
    "        preds = np.append(preds, _LDA(i))\n",
    "    return preds\n",
    "\n",
    "LDA_preds_train = LDA(X_train)  # LDA predictions for training set\n",
    "print(\"LDA Training Accuracy: \", np.sum(LDA_preds_train==y_train)/len(train))\n",
    "print(\"LDA Training Error: \", np.sum(LDA_preds_train!=y_train)/len(train))\n",
    "\n",
    "LDA_preds_test = LDA(X_test)   # LDA predictions for testing set\n",
    "print(\"LDA Testing Accuracy: \", np.sum(LDA_preds_test==y_test)/len(test))\n",
    "print(\"LDA Testing Error: \", np.sum(LDA_preds_test!=y_test)/len(test))"
   ]
  },
  {
   "cell_type": "markdown",
   "metadata": {},
   "source": [
    "# 2c. Quadratic Discriminant Analysis"
   ]
  },
  {
   "cell_type": "markdown",
   "metadata": {},
   "source": [
    "Quadratic Discriminant Analysis introduces a slightly more complex model than LDA. We already have the covariance matrices for each class, benign and malignant, calculated above as *C1* and *C2*, respectively. In QDA, the difference is that the covariance matrices used in fitting the Gaussian are different between the 2 classes. This results in a decision boundary that is quadratic, hence the name. So, we will use C1 and C2 to calculate conditional probabilities for the multivariate Gaussian distribution, rather than the collective covariance matrix."
   ]
  },
  {
   "cell_type": "code",
   "execution_count": 11,
   "metadata": {},
   "outputs": [],
   "source": [
    "def _QDA(features):\n",
    "    \"\"\"\n",
    "    Performs QDA classification on one data point, given array of its features.\n",
    "    \n",
    "    :param features: array of feature data\n",
    "    :return: label prediction\n",
    "    \"\"\"\n",
    "    p_benign = len(benign)/len(train)  # probability of benign \n",
    "    p_malignant = len(malignant)/len(train)  # probability of malignant\n",
    "    \n",
    "    mean_benign = np.array(benign.mean(axis=0))  # mean of benign\n",
    "    mean_malignant = np.array(malignant.mean(axis=0))  # mean of malignant\n",
    "    \n",
    "    pdf_benign = multivariate_normal.pdf(features, mean_benign, C1)  # conditional probability of benign\n",
    "    pdf_malignant = multivariate_normal.pdf(features, mean_malignant, C2)  # conditional probability of malignant\n",
    "    if pdf_benign * p_benign > pdf_malignant * p_malignant:\n",
    "        return \"B\"\n",
    "    else:\n",
    "        return \"M\""
   ]
  },
  {
   "cell_type": "markdown",
   "metadata": {},
   "source": [
    "Again, very similar to LDA, we perform QDA by calculating conditional probabilities of each class given the data point feature vector. We can calculate the conditional probabilities for each class by using Bayes' Rule:\n",
    "\n",
    "𝑃(𝐴|𝐵)=𝑃(𝐵|𝐴)∗𝑃(𝐴)/𝑃(𝐵) \n",
    "where A represents the class label and B represents the feature vector.\n",
    "\n",
    "Since the denominators are the same for each class because we are using the same feature vector for both probabilities, we find the label that maximizes  𝑃(𝐵|𝐴)∗𝑃(𝐴)  To calculate the conditional probability, we can estimate it with a multivariate Gaussian distribution, using different covariance matrices amongst the different classes. From this, we can estimate the likelihood of our feature vector occuring in the distribution described by the training data we fit."
   ]
  },
  {
   "cell_type": "code",
   "execution_count": 12,
   "metadata": {},
   "outputs": [
    {
     "name": "stdout",
     "output_type": "stream",
     "text": [
      "QDA Training Accuracy:  0.9675\n",
      "QDA Training Error:  0.0325\n",
      "QDA Testing Accuracy:  0.9644970414201184\n",
      "QDA Testing Error:  0.03550295857988166\n"
     ]
    }
   ],
   "source": [
    "def QDA(data):\n",
    "    preds = np.array([])\n",
    "    for i in data:\n",
    "        preds = np.append(preds, _QDA(i))\n",
    "    return preds\n",
    "\n",
    "QDA_preds_train = QDA(X_train)  # LDA predictions for training set\n",
    "print(\"QDA Training Accuracy: \", np.sum(QDA_preds_train==y_train)/len(train))\n",
    "print(\"QDA Training Error: \", np.sum(QDA_preds_train!=y_train)/len(train))\n",
    "\n",
    "QDA_preds_test = QDA(X_test)   # LDA predictions for testing set\n",
    "print(\"QDA Testing Accuracy: \", np.sum(QDA_preds_test==y_test)/len(test))\n",
    "print(\"QDA Testing Error: \", np.sum(QDA_preds_test!=y_test)/len(test))"
   ]
  }
 ],
 "metadata": {
  "kernelspec": {
   "display_name": "Python 3",
   "language": "python",
   "name": "python3"
  },
  "language_info": {
   "codemirror_mode": {
    "name": "ipython",
    "version": 3
   },
   "file_extension": ".py",
   "mimetype": "text/x-python",
   "name": "python",
   "nbconvert_exporter": "python",
   "pygments_lexer": "ipython3",
   "version": "3.6.8"
  }
 },
 "nbformat": 4,
 "nbformat_minor": 2
}
